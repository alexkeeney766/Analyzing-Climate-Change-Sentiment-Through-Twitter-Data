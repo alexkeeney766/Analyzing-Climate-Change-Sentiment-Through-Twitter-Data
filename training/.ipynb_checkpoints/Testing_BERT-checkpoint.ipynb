{
 "cells": [
  {
   "cell_type": "code",
   "execution_count": null,
   "metadata": {},
   "outputs": [],
   "source": [
    "import numpy as np\n",
    "import json\n",
    "from sklearn.model_selection import train_test_split\n",
    "\n",
    "import tensorflow as tf\n",
    "from transformers import BertTokenizer, TFBertForSequenceClassification, glue_convert_examples_to_features\n",
    "\n",
    "from transformers.configuration_bert import BertConfig"
   ]
  },
  {
   "cell_type": "code",
   "execution_count": null,
   "metadata": {},
   "outputs": [],
   "source": [
    "tokenizer = BertTokenizer('../models/BERT-vocab.dms')\n",
    "\n",
    "config = BertConfig.from_json_file('../models/BERT-config.json')\n",
    "\n",
    "model = TFBertForSequenceClassification.from_pretrained('../models/BERT-transfer', config=config)"
   ]
  },
  {
   "cell_type": "code",
   "execution_count": null,
   "metadata": {},
   "outputs": [],
   "source": [
    "fname = '../data/prelabeled/test47_even.tfrecord'\n",
    "# BATCH_SIZE = 64\n",
    "feat_spec = {\n",
    "    'idx' : tf.io.FixedLenFeature([], tf.int64),\n",
    "    'sentence' : tf.io.FixedLenFeature([], tf.string),\n",
    "    'label' : tf.io.FixedLenFeature([], tf.int64)\n",
    "}\n",
    "\n",
    "def parse_ex(ex_proto):\n",
    "    return tf.io.parse_single_example(ex_proto, feat_spec)\n",
    "\n",
    "tweets = tf.data.TFRecordDataset(fname)\n",
    "tweets = tweets.map(parse_ex)\n",
    "\n",
    "# with open('data/tweet_info.json')as j_file:\n",
    "#     data_info = json.load(j_file)\n",
    "#     num_samples = data_info['DF_length']\n",
    "\n",
    "eval_df = glue_convert_examples_to_features(examples = tweets,\n",
    "                                            tokenizer = tokenizer,\n",
    "                                            max_length = 128,\n",
    "                                            task = 'sst-2',\n",
    "                                            label_list = ['0','-1', '1'])"
   ]
  },
  {
   "cell_type": "code",
   "execution_count": null,
   "metadata": {},
   "outputs": [],
   "source": [
    "eval_df = eval_df.batch(64)"
   ]
  },
  {
   "cell_type": "code",
   "execution_count": null,
   "metadata": {},
   "outputs": [],
   "source": [
    "y_preds = model.predict(eval_df, verbose = True, use_multiprocessing=True)"
   ]
  },
  {
   "cell_type": "code",
   "execution_count": null,
   "metadata": {},
   "outputs": [],
   "source": [
    "# y_preds_sm = tf.nn.softmax(y_preds)\n",
    "# y_preds_argmax = tf.math.argmax(y_preds_sm, axis = 1)\n",
    "\n",
    "y_true = tf.Variable([], dtype = tf.int64)\n",
    "\n",
    "for feat, lab in eval_df.take(-1):\n",
    "    y_true = tf.concat([y_true, lab], 0)"
   ]
  },
  {
   "cell_type": "code",
   "execution_count": null,
   "metadata": {},
   "outputs": [],
   "source": [
    "import matplotlib.pyplot as plt\n",
    "import seaborn as sns\n",
    "import pandas as pandas\n",
    "%matplotlib inline\n",
    "confusion = tf.math.confusion_matrix(y_true, y_preds_argmax).numpy()\n",
    "\n",
    "sns.heatmap(confusion, annot = True, fmt='g', cmap = plt.cm.Blues, )\n",
    "plt.xlabel('Predicted label')\n",
    "plt.ylabel('True label')\n",
    "\n",
    "plt.show()\n",
    "\n",
    "# classes 0, 1, 2 refer to labels 0, -1, 1 in this model. \n",
    "# this will be changed to make more sense i nthe future"
   ]
  },
  {
   "cell_type": "code",
   "execution_count": null,
   "metadata": {},
   "outputs": [],
   "source": [
    "from sklearn.metrics import classification_report\n",
    "\n",
    "print(classification_report(y_true, y_preds_argmax))"
   ]
  },
  {
   "cell_type": "code",
   "execution_count": null,
   "metadata": {},
   "outputs": [],
   "source": [
    "import matplotlib\n",
    "matplotlib.__version__"
   ]
  },
  {
   "cell_type": "code",
   "execution_count": null,
   "metadata": {},
   "outputs": [],
   "source": [
    "np.savetxt('../data/prelabeled/test47_predicted_labels.csv', y_preds_argmax.numpy(), delimiter = ',')"
   ]
  },
  {
   "cell_type": "markdown",
   "metadata": {},
   "source": [
    "# From saved labels"
   ]
  },
  {
   "cell_type": "code",
   "execution_count": null,
   "metadata": {},
   "outputs": [],
   "source": [
    "Y_true_numpy = y_true.numpy()"
   ]
  },
  {
   "cell_type": "code",
   "execution_count": null,
   "metadata": {},
   "outputs": [],
   "source": [
    "y_pred_labels = np.loadtxt('../data/prelabeled/test47_predicted_labels.csv', delimiter=',')"
   ]
  },
  {
   "cell_type": "code",
   "execution_count": null,
   "metadata": {},
   "outputs": [],
   "source": [
    "y_pred_labels"
   ]
  },
  {
   "cell_type": "code",
   "execution_count": null,
   "metadata": {},
   "outputs": [],
   "source": [
    "import matplotlib.pyplot as plt\n",
    "import matplotlib as mpl\n",
    "import seaborn as sns\n",
    "import pandas as pd\n",
    "%matplotlib inline\n",
    "confusion = tf.math.confusion_matrix(Y_true_numpy, y_pred_labels).numpy()\n",
    "confusion = confusion/confusion.sum()\n",
    "df_confusion = pd.DataFrame(confusion, index = ['Neutral', 'Positive', 'Deny'], \n",
    "                            columns = ['Neutral', 'Positive', 'Deny'])\n",
    "\n",
    "\n",
    "sns.heatmap(df_confusion, annot = True, fmt='g', cmap = plt.cm.Blues, )\n",
    "plt.xlabel('Predicted label', weight = 'bold')\n",
    "plt.ylabel('True label', weight = 'bold')\n",
    "plt.show()"
   ]
  },
  {
   "cell_type": "code",
   "execution_count": null,
   "metadata": {},
   "outputs": [],
   "source": [
    "from sklearn.metrics import classification_report\n",
    "\n",
    "print(classification_report(Y_true_numpy, y_pred_labels))"
   ]
  },
  {
   "cell_type": "code",
   "execution_count": null,
   "metadata": {},
   "outputs": [],
   "source": []
  }
 ],
 "metadata": {
  "kernelspec": {
   "display_name": "Python 3",
   "language": "python",
   "name": "python3"
  },
  "language_info": {
   "codemirror_mode": {
    "name": "ipython",
    "version": 3
   },
   "file_extension": ".py",
   "mimetype": "text/x-python",
   "name": "python",
   "nbconvert_exporter": "python",
   "pygments_lexer": "ipython3",
   "version": "3.7.5"
  }
 },
 "nbformat": 4,
 "nbformat_minor": 2
}
