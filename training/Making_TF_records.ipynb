{
 "cells": [
  {
   "cell_type": "code",
   "execution_count": 1,
   "metadata": {},
   "outputs": [],
   "source": [
    "import tensorflow as tf\n",
    "import pandas as pd\n",
    "import numpy as np\n",
    "from tensorflow.python.lib.io.tf_record import TFRecordWriter\n",
    "\n",
    "from sklearn.model_selection import train_test_split\n",
    "\n",
    "import json\n",
    "\n",
    "# CHANGE THESE TO TRAINING DATA FILEPATH AND OUT-FILEPATH\n",
    "prelabeled_tweets = '../data/prelabeled/tweets_47k.csv'\n",
    "\n",
    "OUTFILE_prefix = '../data/prelabeled/'"
   ]
  },
  {
   "cell_type": "code",
   "execution_count": 23,
   "metadata": {},
   "outputs": [
    {
     "data": {
      "text/plain": [
       "(47408, 2)"
      ]
     },
     "execution_count": 23,
     "metadata": {},
     "output_type": "execute_result"
    }
   ],
   "source": [
    "DF = pd.read_csv(labeled_tweets)\n",
    "DF.shape"
   ]
  },
  {
   "cell_type": "code",
   "execution_count": 24,
   "metadata": {},
   "outputs": [
    {
     "data": {
      "text/html": [
       "<div>\n",
       "<style scoped>\n",
       "    .dataframe tbody tr th:only-of-type {\n",
       "        vertical-align: middle;\n",
       "    }\n",
       "\n",
       "    .dataframe tbody tr th {\n",
       "        vertical-align: top;\n",
       "    }\n",
       "\n",
       "    .dataframe thead th {\n",
       "        text-align: right;\n",
       "    }\n",
       "</style>\n",
       "<table border=\"1\" class=\"dataframe\">\n",
       "  <thead>\n",
       "    <tr style=\"text-align: right;\">\n",
       "      <th></th>\n",
       "      <th>Stance</th>\n",
       "      <th>Tweet</th>\n",
       "    </tr>\n",
       "  </thead>\n",
       "  <tbody>\n",
       "    <tr>\n",
       "      <th>0</th>\n",
       "      <td>0</td>\n",
       "      <td>RT @redostoneage: NASAs changing Facts; Guess they thought you wouldnt notice #global warming #climate change #eco [link]</td>\n",
       "    </tr>\n",
       "    <tr>\n",
       "      <th>1</th>\n",
       "      <td>0</td>\n",
       "      <td>Air ban led by flawed computer models. Global warming come to mind? [link]</td>\n",
       "    </tr>\n",
       "    <tr>\n",
       "      <th>2</th>\n",
       "      <td>0</td>\n",
       "      <td>@jiminhofe to Address Global Warming Skeptics at 4th ICCC. [link] #agw #tcot #tlot #climate</td>\n",
       "    </tr>\n",
       "    <tr>\n",
       "      <th>3</th>\n",
       "      <td>0</td>\n",
       "      <td>Peoples World: GRAND RAPIDS, Mich. - Opponents of climate change legislation typically argue that regulating globa... [link]</td>\n",
       "    </tr>\n",
       "    <tr>\n",
       "      <th>4</th>\n",
       "      <td>0</td>\n",
       "      <td>In a half hour, Carol Browner, Assistant to the President for Energy &amp; Climate Change, will answer questions live: [link]</td>\n",
       "    </tr>\n",
       "  </tbody>\n",
       "</table>\n",
       "</div>"
      ],
      "text/plain": [
       "   Stance  \\\n",
       "0  0        \n",
       "1  0        \n",
       "2  0        \n",
       "3  0        \n",
       "4  0        \n",
       "\n",
       "                                                                                                                          Tweet  \n",
       "0  RT @redostoneage: NASAs changing Facts; Guess they thought you wouldnt notice #global warming #climate change #eco [link]     \n",
       "1  Air ban led by flawed computer models. Global warming come to mind? [link]                                                    \n",
       "2  @jiminhofe to Address Global Warming Skeptics at 4th ICCC. [link] #agw #tcot #tlot #climate                                   \n",
       "3  Peoples World: GRAND RAPIDS, Mich. - Opponents of climate change legislation typically argue that regulating globa... [link]  \n",
       "4  In a half hour, Carol Browner, Assistant to the President for Energy & Climate Change, will answer questions live: [link]     "
      ]
     },
     "execution_count": 24,
     "metadata": {},
     "output_type": "execute_result"
    }
   ],
   "source": [
    "DF.head()"
   ]
  },
  {
   "cell_type": "code",
   "execution_count": 25,
   "metadata": {},
   "outputs": [],
   "source": [
    "DF.Stance.unique()\n",
    "DF.Stance = DF.Stance.astype('int32', copy = False)"
   ]
  },
  {
   "cell_type": "code",
   "execution_count": 26,
   "metadata": {},
   "outputs": [],
   "source": [
    "def clean_tweets():\n",
    "    '''\n",
    "    Takes the DF defined above and (in this order) applies the following preprocessing steps:\n",
    "    1. Remove cases\n",
    "    2. Replaces and URL's with \"LINK\"\n",
    "    3. Replaces any twitter handels with \"USERNAME\"\n",
    "    4. Removes any punctuation\n",
    "    \n",
    "    Note: Stop words will not be removed in this iteration because they may add some information.\n",
    "    '''\n",
    "    # Remove cases from the tweets\n",
    "    DF.Tweet = DF.Tweet.str.lower()\n",
    "    \n",
    "    # Remove URL links\n",
    "    DF.Tweet = DF.Tweet.str.replace('http\\S+|www.\\S+', 'LINK', case = False)\n",
    "    \n",
    "    # Remove usernames\n",
    "    DF.Tweet = DF.Tweet.str.replace('@.*w', 'USERNAME ', case = False)\n",
    "    \n",
    "    # Remove #'s?\n",
    "#     DF.Tweet = DF.Tweet.str.replace('#', '', case = False)\n",
    "    \n",
    "    # Remove remaining punctuation\n",
    "    DF.Tweet = DF.Tweet.str.replace('[^\\w\\s]', '')\n",
    "    \n",
    "    # Convert Stance to a numerical val - Alread done for current DF\n",
    "    # stances = {'NONE':0, 'AGAINST':-1, 'FAVOR':1}\n",
    "    # DF.Stance =DF.Stance.map(stances)\n",
    "    # DF.astype({'Stance': 'int32'}, copy = False)\n",
    "    \n",
    "clean_tweets()"
   ]
  },
  {
   "cell_type": "code",
   "execution_count": 27,
   "metadata": {},
   "outputs": [
    {
     "name": "stdout",
     "output_type": "stream",
     "text": [
      "0's: 11642\n",
      "1's: 29519\n",
      "-1's: 6247\n"
     ]
    }
   ],
   "source": [
    "# DF.head()\n",
    "print(f\"0's: {(DF.Stance == 0).sum()}\")\n",
    "print(f\"1's: {(DF.Stance == 1).sum()}\")\n",
    "print(f\"-1's: {(DF.Stance == -1).sum()}\")"
   ]
  },
  {
   "cell_type": "code",
   "execution_count": 29,
   "metadata": {},
   "outputs": [
    {
     "name": "stdout",
     "output_type": "stream",
     "text": [
      "(47408,)\n",
      "Stance    int32 \n",
      "Tweet     object\n",
      "dtype: object\n"
     ]
    }
   ],
   "source": [
    "print(DF.Stance.shape)\n",
    "print(DF.dtypes)"
   ]
  },
  {
   "cell_type": "code",
   "execution_count": 9,
   "metadata": {},
   "outputs": [
    {
     "name": "stdout",
     "output_type": "stream",
     "text": [
      "(6247, 2) (6247, 2) (6247, 2)\n"
     ]
    }
   ],
   "source": [
    "# Sampling 20000 from each label\n",
    "df_pos = DF[DF.Stance == 1].sample(6247, replace = False)\n",
    "df_neu = DF[DF.Stance == 0].sample(6247, replace = False)\n",
    "df_neg = DF[DF.Stance == -1].sample(6247, replace = False)\n",
    "print(df_pos.shape, df_neu.shape, df_neg.shape)"
   ]
  },
  {
   "cell_type": "code",
   "execution_count": 10,
   "metadata": {},
   "outputs": [
    {
     "name": "stdout",
     "output_type": "stream",
     "text": [
      "(18741, 2)\n"
     ]
    }
   ],
   "source": [
    "df = pd.concat([df_pos, df_neu, df_neg])\n",
    "print(df.shape)"
   ]
  },
  {
   "cell_type": "code",
   "execution_count": 30,
   "metadata": {},
   "outputs": [],
   "source": [
    "# Make All\n",
    "X_train, X_test, y_train, y_test = train_test_split(DF.Tweet, DF.Stance, test_size = .2, shuffle = True)\n",
    "\n",
    "X_train, X_val, y_train, y_val = train_test_split(X_train, y_train, test_size = .2, shuffle = True)\n",
    "\n",
    "\n",
    "# Make evenly classed subsample \n",
    "# X_train, X_test, y_train, y_test = train_test_split(df.Tweet, df.Stance, test_size = .2, shuffle = True)\n",
    "\n",
    "# X_train, X_val, y_train, y_val = train_test_split(X_train, y_train, test_size = .2, shuffle = True)"
   ]
  },
  {
   "cell_type": "code",
   "execution_count": 31,
   "metadata": {},
   "outputs": [
    {
     "name": "stdout",
     "output_type": "stream",
     "text": [
      "(30340,)\n",
      "(9482,)\n",
      "(7586,)\n",
      "(30340,)\n",
      "(9482,)\n",
      "(7586,)\n"
     ]
    }
   ],
   "source": [
    "print(X_train.shape)\n",
    "print(X_test.shape)\n",
    "print(X_val.shape)\n",
    "print(y_train.shape)\n",
    "print(y_test.shape)\n",
    "print(y_val.shape)"
   ]
  },
  {
   "cell_type": "code",
   "execution_count": 32,
   "metadata": {},
   "outputs": [],
   "source": [
    "train = pd.DataFrame(np.array([X_train, y_train]).T)\n",
    "test = pd.DataFrame(np.array([X_test, y_test]).T)\n",
    "val = pd.DataFrame(np.array([X_val, y_val]).T)"
   ]
  },
  {
   "cell_type": "code",
   "execution_count": 33,
   "metadata": {},
   "outputs": [
    {
     "data": {
      "text/html": [
       "<div>\n",
       "<style scoped>\n",
       "    .dataframe tbody tr th:only-of-type {\n",
       "        vertical-align: middle;\n",
       "    }\n",
       "\n",
       "    .dataframe tbody tr th {\n",
       "        vertical-align: top;\n",
       "    }\n",
       "\n",
       "    .dataframe thead th {\n",
       "        text-align: right;\n",
       "    }\n",
       "</style>\n",
       "<table border=\"1\" class=\"dataframe\">\n",
       "  <thead>\n",
       "    <tr style=\"text-align: right;\">\n",
       "      <th></th>\n",
       "      <th>0</th>\n",
       "      <th>1</th>\n",
       "    </tr>\n",
       "  </thead>\n",
       "  <tbody>\n",
       "    <tr>\n",
       "      <th>0</th>\n",
       "      <td>rt USERNAME  oped in ft about chinas leadership on climate change LINK</td>\n",
       "      <td>1</td>\n",
       "    </tr>\n",
       "    <tr>\n",
       "      <th>1</th>\n",
       "      <td>thursday on pbs going green new york examining how new yorkers are confronting climate change check local listings LINK</td>\n",
       "      <td>1</td>\n",
       "    </tr>\n",
       "    <tr>\n",
       "      <th>2</th>\n",
       "      <td>rt USERNAME aste to florida epa head scott pruitt says its insensitive to discuss climate change LINK</td>\n",
       "      <td>1</td>\n",
       "    </tr>\n",
       "    <tr>\n",
       "      <th>3</th>\n",
       "      <td>against</td>\n",
       "      <td>-1</td>\n",
       "    </tr>\n",
       "    <tr>\n",
       "      <th>4</th>\n",
       "      <td>nosmokingcar\\na very polluted city now a day cars smoke increase global warming please drive electric cars mahindraelctrc</td>\n",
       "      <td>1</td>\n",
       "    </tr>\n",
       "    <tr>\n",
       "      <th>...</th>\n",
       "      <td>...</td>\n",
       "      <td>...</td>\n",
       "    </tr>\n",
       "    <tr>\n",
       "      <th>30335</th>\n",
       "      <td>eternal reminder that climate change does not care if you believe in it or not and it doesnt stop at the border LINK</td>\n",
       "      <td>1</td>\n",
       "    </tr>\n",
       "    <tr>\n",
       "      <th>30336</th>\n",
       "      <td>against</td>\n",
       "      <td>-1</td>\n",
       "    </tr>\n",
       "    <tr>\n",
       "      <th>30337</th>\n",
       "      <td>rt deray oh  LINK</td>\n",
       "      <td>0</td>\n",
       "    </tr>\n",
       "    <tr>\n",
       "      <th>30338</th>\n",
       "      <td>rt USERNAME een climate change amp terrorism needs to have this stapled to their forehead LINK</td>\n",
       "      <td>1</td>\n",
       "    </tr>\n",
       "    <tr>\n",
       "      <th>30339</th>\n",
       "      <td>rt USERNAME hy are so confused you are ri</td>\n",
       "      <td>-1</td>\n",
       "    </tr>\n",
       "  </tbody>\n",
       "</table>\n",
       "<p>30340 rows × 2 columns</p>\n",
       "</div>"
      ],
      "text/plain": [
       "                                                                                                                                0  \\\n",
       "0      rt USERNAME  oped in ft about chinas leadership on climate change LINK                                                       \n",
       "1      thursday on pbs going green new york examining how new yorkers are confronting climate change check local listings LINK      \n",
       "2      rt USERNAME aste to florida epa head scott pruitt says its insensitive to discuss climate change LINK                        \n",
       "3      against                                                                                                                      \n",
       "4      nosmokingcar\\na very polluted city now a day cars smoke increase global warming please drive electric cars mahindraelctrc    \n",
       "...                                                                                                                           ...   \n",
       "30335  eternal reminder that climate change does not care if you believe in it or not and it doesnt stop at the border LINK         \n",
       "30336  against                                                                                                                      \n",
       "30337  rt deray oh  LINK                                                                                                            \n",
       "30338  rt USERNAME een climate change amp terrorism needs to have this stapled to their forehead LINK                               \n",
       "30339  rt USERNAME hy are so confused you are ri                                                                                    \n",
       "\n",
       "        1  \n",
       "0      1   \n",
       "1      1   \n",
       "2      1   \n",
       "3      -1  \n",
       "4      1   \n",
       "...   ..   \n",
       "30335  1   \n",
       "30336  -1  \n",
       "30337  0   \n",
       "30338  1   \n",
       "30339  -1  \n",
       "\n",
       "[30340 rows x 2 columns]"
      ]
     },
     "execution_count": 33,
     "metadata": {},
     "output_type": "execute_result"
    }
   ],
   "source": [
    "train"
   ]
  },
  {
   "cell_type": "code",
   "execution_count": 34,
   "metadata": {},
   "outputs": [
    {
     "data": {
      "text/plain": [
       "(30340, 2)"
      ]
     },
     "execution_count": 34,
     "metadata": {},
     "output_type": "execute_result"
    }
   ],
   "source": [
    "train.shape"
   ]
  },
  {
   "cell_type": "code",
   "execution_count": 35,
   "metadata": {},
   "outputs": [],
   "source": [
    "train_csv = train.values\n",
    "test_csv = test.values\n",
    "val_csv = val.values"
   ]
  },
  {
   "cell_type": "code",
   "execution_count": 36,
   "metadata": {},
   "outputs": [
    {
     "data": {
      "text/plain": [
       "int"
      ]
     },
     "execution_count": 36,
     "metadata": {},
     "output_type": "execute_result"
    }
   ],
   "source": [
    "type(train_csv[0][1])"
   ]
  },
  {
   "cell_type": "code",
   "execution_count": 37,
   "metadata": {},
   "outputs": [],
   "source": [
    "def make_tf_ex(feats, lab):\n",
    "    tf_ex = tf.train.Example(features = tf.train.Features(feature= {\n",
    "        'idx' : tf.train.Feature(int64_list = tf.train.Int64List(value = [feats[0]])),\n",
    "        'sentence' : tf.train.Feature(bytes_list = tf.train.BytesList(value = [feats[1].encode('utf-8')])),\n",
    "        'label' : tf.train.Feature(int64_list = tf.train.Int64List(value = [lab]))\n",
    "    }))\n",
    "    \n",
    "    return tf_ex"
   ]
  },
  {
   "cell_type": "code",
   "execution_count": 38,
   "metadata": {},
   "outputs": [],
   "source": [
    "def convert_csv_to_tf_record(csv, file_name):\n",
    "    writer = TFRecordWriter(file_name)\n",
    "    for index,row in enumerate(csv):\n",
    "        try:\n",
    "            if row is None:\n",
    "                print(\"row was None\")\n",
    "                raise Exception('Row Missing')\n",
    "                \n",
    "            if row[0] is None or row[1] is None:\n",
    "                print(\"row[0] or row[1] was None\")\n",
    "                raise Exception('Value Missing')\n",
    "                \n",
    "            if row[0].strip() is '':\n",
    "                print(\"row[0].strip() was ''\")\n",
    "                raise Exception('Utterance is empty')\n",
    "                \n",
    "            feats = (index, row[0])\n",
    "            lab = row[1]\n",
    "            example = make_tf_ex(feats, lab)\n",
    "            writer.write(example.SerializeToString())\n",
    "\n",
    "        except Exception as inst:\n",
    "            print(type(inst))\n",
    "            print(Exception.args)\n",
    "            print(Exception.with_traceback)\n",
    "            \n",
    "    writer.close()\n",
    "\n",
    "def generate_json_info(local_file_name):\n",
    "    info = {\"train_length\": len(train),\n",
    "            \"val_length\": len(val),\n",
    "            \"test_length\": len(test)}\n",
    "\n",
    "    with open(local_file_name, 'w') as outfile:\n",
    "        json.dump(info, outfile)"
   ]
  },
  {
   "cell_type": "code",
   "execution_count": 39,
   "metadata": {},
   "outputs": [],
   "source": [
    "# Make All\n",
    "\n",
    "# convert_csv_to_tf_record(train_csv, \"data/train_large.tfrecord\")\n",
    "# convert_csv_to_tf_record(test_csv, \"data/test_large.tfrecord\")\n",
    "# convert_csv_to_tf_record(val_csv, \"data/val_large.tfrecord\")\n",
    "\n",
    "# Make even subsample - 60,000 in total\n",
    "convert_csv_to_tf_record(train_csv, OUTFILE_prefix + \"train47.tfrecord\")\n",
    "convert_csv_to_tf_record(test_csv, OUTFILE_prefix + \"test47.tfrecord\")\n",
    "convert_csv_to_tf_record(val_csv, OUTFILE_prefix + \"val47.tfrecord\")"
   ]
  },
  {
   "cell_type": "code",
   "execution_count": 40,
   "metadata": {},
   "outputs": [],
   "source": [
    "generate_json_info(\"../data/lengths/tweet47_info.json\")"
   ]
  },
  {
   "cell_type": "code",
   "execution_count": null,
   "metadata": {},
   "outputs": [],
   "source": []
  }
 ],
 "metadata": {
  "kernelspec": {
   "display_name": "Python 3",
   "language": "python",
   "name": "python3"
  },
  "language_info": {
   "codemirror_mode": {
    "name": "ipython",
    "version": 3
   },
   "file_extension": ".py",
   "mimetype": "text/x-python",
   "name": "python",
   "nbconvert_exporter": "python",
   "pygments_lexer": "ipython3",
   "version": "3.7.5"
  }
 },
 "nbformat": 4,
 "nbformat_minor": 2
}
