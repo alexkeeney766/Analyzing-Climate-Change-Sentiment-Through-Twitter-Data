{
 "cells": [
  {
   "cell_type": "markdown",
   "metadata": {},
   "source": [
    "The sections that are commented out were left in to allow for the creation of an uneven, but larger, dataset."
   ]
  },
  {
   "cell_type": "code",
   "execution_count": 1,
   "metadata": {},
   "outputs": [],
   "source": [
    "import tensorflow as tf\n",
    "import pandas as pd\n",
    "import numpy as np\n",
    "from tensorflow.python.lib.io.tf_record import TFRecordWriter\n",
    "\n",
    "from sklearn.model_selection import train_test_split\n",
    "\n",
    "import json\n",
    "\n",
    "# CHANGE THESE TO TRAINING DATA FILEPATH AND OUT-FILEPATH\n",
    "prelabeled_tweets = '../data/prelabeled/tweets_47k.csv'\n",
    "\n",
    "OUTFILE_prefix = '../data/prelabeled/'"
   ]
  },
  {
   "cell_type": "code",
   "execution_count": 2,
   "metadata": {},
   "outputs": [
    {
     "data": {
      "text/plain": [
       "(47408, 2)"
      ]
     },
     "execution_count": 2,
     "metadata": {},
     "output_type": "execute_result"
    }
   ],
   "source": [
    "DF = pd.read_csv(prelabeled_tweets)\n",
    "DF.shape"
   ]
  },
  {
   "cell_type": "code",
   "execution_count": 3,
   "metadata": {},
   "outputs": [
    {
     "data": {
      "text/html": [
       "<div>\n",
       "<style scoped>\n",
       "    .dataframe tbody tr th:only-of-type {\n",
       "        vertical-align: middle;\n",
       "    }\n",
       "\n",
       "    .dataframe tbody tr th {\n",
       "        vertical-align: top;\n",
       "    }\n",
       "\n",
       "    .dataframe thead th {\n",
       "        text-align: right;\n",
       "    }\n",
       "</style>\n",
       "<table border=\"1\" class=\"dataframe\">\n",
       "  <thead>\n",
       "    <tr style=\"text-align: right;\">\n",
       "      <th></th>\n",
       "      <th>Stance</th>\n",
       "      <th>Tweet</th>\n",
       "    </tr>\n",
       "  </thead>\n",
       "  <tbody>\n",
       "    <tr>\n",
       "      <th>0</th>\n",
       "      <td>0</td>\n",
       "      <td>RT @redostoneage: NASAs changing Facts; Guess ...</td>\n",
       "    </tr>\n",
       "    <tr>\n",
       "      <th>1</th>\n",
       "      <td>0</td>\n",
       "      <td>Air ban led by flawed computer models. Global ...</td>\n",
       "    </tr>\n",
       "    <tr>\n",
       "      <th>2</th>\n",
       "      <td>0</td>\n",
       "      <td>@jiminhofe to Address Global Warming Skeptics ...</td>\n",
       "    </tr>\n",
       "    <tr>\n",
       "      <th>3</th>\n",
       "      <td>0</td>\n",
       "      <td>Peoples World: GRAND RAPIDS, Mich. - Opponents...</td>\n",
       "    </tr>\n",
       "    <tr>\n",
       "      <th>4</th>\n",
       "      <td>0</td>\n",
       "      <td>In a half hour, Carol Browner, Assistant to th...</td>\n",
       "    </tr>\n",
       "  </tbody>\n",
       "</table>\n",
       "</div>"
      ],
      "text/plain": [
       "   Stance                                              Tweet\n",
       "0       0  RT @redostoneage: NASAs changing Facts; Guess ...\n",
       "1       0  Air ban led by flawed computer models. Global ...\n",
       "2       0  @jiminhofe to Address Global Warming Skeptics ...\n",
       "3       0  Peoples World: GRAND RAPIDS, Mich. - Opponents...\n",
       "4       0  In a half hour, Carol Browner, Assistant to th..."
      ]
     },
     "execution_count": 3,
     "metadata": {},
     "output_type": "execute_result"
    }
   ],
   "source": [
    "DF.head()"
   ]
  },
  {
   "cell_type": "code",
   "execution_count": 4,
   "metadata": {},
   "outputs": [],
   "source": [
    "DF.Stance.unique()\n",
    "DF.Stance = DF.Stance.astype('int32', copy = False)"
   ]
  },
  {
   "cell_type": "code",
   "execution_count": 5,
   "metadata": {},
   "outputs": [],
   "source": [
    "def clean_tweets():\n",
    "    '''\n",
    "    Takes the DF defined above and (in this order) applies the following preprocessing steps:\n",
    "    1. Remove cases\n",
    "    2. Replaces and URL's with \"LINK\"\n",
    "    3. Replaces any twitter handels with \"USERNAME\"\n",
    "    4. Removes any punctuation\n",
    "    \n",
    "    Note: Stop words will not be removed in this iteration because they may add some information.\n",
    "    '''\n",
    "    # Remove cases from the tweets\n",
    "    DF.Tweet = DF.Tweet.str.lower()\n",
    "    \n",
    "    # Remove URL links\n",
    "    DF.Tweet = DF.Tweet.str.replace('http\\S+|www.\\S+', 'LINK', case = False)\n",
    "    \n",
    "    # Remove usernames\n",
    "    DF.Tweet = DF.Tweet.str.replace('@.*w', 'USERNAME ', case = False)\n",
    "    \n",
    "    # Remove #'s? - Uncomment next line if you aren't using the next filter\n",
    "#     DF.Tweet = DF.Tweet.str.replace('#', '', case = False)\n",
    "    \n",
    "    # Remove remaining punctuation\n",
    "    DF.Tweet = DF.Tweet.str.replace('[^\\w\\s]', '')\n",
    "    \n",
    "    # Convert Stance to a numerical val - Alread done for current DF\n",
    "    # stances = {'NONE':0, 'AGAINST':-1, 'FAVOR':1}\n",
    "    # DF.Stance =DF.Stance.map(stances)\n",
    "    # DF.astype({'Stance': 'int32'}, copy = False)\n",
    "    \n",
    "clean_tweets()"
   ]
  },
  {
   "cell_type": "code",
   "execution_count": 6,
   "metadata": {},
   "outputs": [
    {
     "name": "stdout",
     "output_type": "stream",
     "text": [
      "0's: 11642\n",
      "1's: 29519\n",
      "-1's: 6247\n"
     ]
    }
   ],
   "source": [
    "print(f\"0's: {(DF.Stance == 0).sum()}\")\n",
    "print(f\"1's: {(DF.Stance == 1).sum()}\")\n",
    "print(f\"-1's: {(DF.Stance == -1).sum()}\")"
   ]
  },
  {
   "cell_type": "code",
   "execution_count": 7,
   "metadata": {},
   "outputs": [
    {
     "name": "stdout",
     "output_type": "stream",
     "text": [
      "(47408,)\n",
      "Stance     int32\n",
      "Tweet     object\n",
      "dtype: object\n"
     ]
    }
   ],
   "source": [
    "print(DF.Stance.shape)\n",
    "print(DF.dtypes)"
   ]
  },
  {
   "cell_type": "code",
   "execution_count": 8,
   "metadata": {},
   "outputs": [
    {
     "name": "stdout",
     "output_type": "stream",
     "text": [
      "(6247, 2) (6247, 2) (6247, 2)\n"
     ]
    }
   ],
   "source": [
    "# Sampling 6247 from each label\n",
    "df_pos = DF[DF.Stance == 1].sample(6247, replace = False)\n",
    "df_neu = DF[DF.Stance == 0].sample(6247, replace = False)\n",
    "df_neg = DF[DF.Stance == -1].sample(6247, replace = False)\n",
    "print(df_pos.shape, df_neu.shape, df_neg.shape)"
   ]
  },
  {
   "cell_type": "code",
   "execution_count": 9,
   "metadata": {},
   "outputs": [
    {
     "name": "stdout",
     "output_type": "stream",
     "text": [
      "(18741, 2)\n"
     ]
    }
   ],
   "source": [
    "df = pd.concat([df_pos, df_neu, df_neg])\n",
    "print(df.shape)"
   ]
  },
  {
   "cell_type": "code",
   "execution_count": 11,
   "metadata": {},
   "outputs": [],
   "source": [
    "# Make All\n",
    "# X_train, X_test, y_train, y_test = train_test_split(DF.Tweet, DF.Stance, test_size = .2, shuffle = True)\n",
    "\n",
    "# X_train, X_val, y_train, y_val = train_test_split(X_train, y_train, test_size = .2, shuffle = True)\n",
    "\n",
    "\n",
    "# Make evenly classed subsample \n",
    "X_train, X_test, y_train, y_test = train_test_split(df.Tweet, df.Stance, test_size = .2, shuffle = True)\n",
    "\n",
    "X_train, X_val, y_train, y_val = train_test_split(X_train, y_train, test_size = .2, shuffle = True)"
   ]
  },
  {
   "cell_type": "code",
   "execution_count": 12,
   "metadata": {},
   "outputs": [
    {
     "name": "stdout",
     "output_type": "stream",
     "text": [
      "(11993,)\n",
      "(3749,)\n",
      "(2999,)\n",
      "(11993,)\n",
      "(3749,)\n",
      "(2999,)\n"
     ]
    }
   ],
   "source": [
    "print(X_train.shape)\n",
    "print(X_test.shape)\n",
    "print(X_val.shape)\n",
    "print(y_train.shape)\n",
    "print(y_test.shape)\n",
    "print(y_val.shape)"
   ]
  },
  {
   "cell_type": "code",
   "execution_count": 13,
   "metadata": {},
   "outputs": [],
   "source": [
    "train = pd.DataFrame(np.array([X_train, y_train]).T)\n",
    "test = pd.DataFrame(np.array([X_test, y_test]).T)\n",
    "val = pd.DataFrame(np.array([X_val, y_val]).T)"
   ]
  },
  {
   "cell_type": "code",
   "execution_count": 14,
   "metadata": {},
   "outputs": [
    {
     "data": {
      "text/html": [
       "<div>\n",
       "<style scoped>\n",
       "    .dataframe tbody tr th:only-of-type {\n",
       "        vertical-align: middle;\n",
       "    }\n",
       "\n",
       "    .dataframe tbody tr th {\n",
       "        vertical-align: top;\n",
       "    }\n",
       "\n",
       "    .dataframe thead th {\n",
       "        text-align: right;\n",
       "    }\n",
       "</style>\n",
       "<table border=\"1\" class=\"dataframe\">\n",
       "  <thead>\n",
       "    <tr style=\"text-align: right;\">\n",
       "      <th></th>\n",
       "      <th>0</th>\n",
       "      <th>1</th>\n",
       "    </tr>\n",
       "  </thead>\n",
       "  <tbody>\n",
       "    <tr>\n",
       "      <th>0</th>\n",
       "      <td>rt USERNAME  dump on climate change narrative ...</td>\n",
       "      <td>-1</td>\n",
       "    </tr>\n",
       "    <tr>\n",
       "      <th>1</th>\n",
       "      <td>rt USERNAME eet LINK</td>\n",
       "      <td>-1</td>\n",
       "    </tr>\n",
       "    <tr>\n",
       "      <th>2</th>\n",
       "      <td>tuesday open thread climate change edition  b...</td>\n",
       "      <td>0</td>\n",
       "    </tr>\n",
       "    <tr>\n",
       "      <th>3</th>\n",
       "      <td>tonight at 630pm dont miss out on gri_lse publ...</td>\n",
       "      <td>1</td>\n",
       "    </tr>\n",
       "    <tr>\n",
       "      <th>4</th>\n",
       "      <td>favor</td>\n",
       "      <td>1</td>\n",
       "    </tr>\n",
       "    <tr>\n",
       "      <th>...</th>\n",
       "      <td>...</td>\n",
       "      <td>...</td>\n",
       "    </tr>\n",
       "    <tr>\n",
       "      <th>11988</th>\n",
       "      <td>rt USERNAME  can plants adjust to climate change</td>\n",
       "      <td>1</td>\n",
       "    </tr>\n",
       "    <tr>\n",
       "      <th>11989</th>\n",
       "      <td>USERNAME arming tcot</td>\n",
       "      <td>-1</td>\n",
       "    </tr>\n",
       "    <tr>\n",
       "      <th>11990</th>\n",
       "      <td>USERNAME arming</td>\n",
       "      <td>0</td>\n",
       "    </tr>\n",
       "    <tr>\n",
       "      <th>11991</th>\n",
       "      <td>rt USERNAME hy his embrace of science matters ...</td>\n",
       "      <td>1</td>\n",
       "    </tr>\n",
       "    <tr>\n",
       "      <th>11992</th>\n",
       "      <td>the relationship between carbon fossil fuel bu...</td>\n",
       "      <td>1</td>\n",
       "    </tr>\n",
       "  </tbody>\n",
       "</table>\n",
       "<p>11993 rows × 2 columns</p>\n",
       "</div>"
      ],
      "text/plain": [
       "                                                       0   1\n",
       "0      rt USERNAME  dump on climate change narrative ...  -1\n",
       "1                                   rt USERNAME eet LINK  -1\n",
       "2       tuesday open thread climate change edition  b...   0\n",
       "3      tonight at 630pm dont miss out on gri_lse publ...   1\n",
       "4                                                  favor   1\n",
       "...                                                  ...  ..\n",
       "11988   rt USERNAME  can plants adjust to climate change   1\n",
       "11989                               USERNAME arming tcot  -1\n",
       "11990                                    USERNAME arming   0\n",
       "11991  rt USERNAME hy his embrace of science matters ...   1\n",
       "11992  the relationship between carbon fossil fuel bu...   1\n",
       "\n",
       "[11993 rows x 2 columns]"
      ]
     },
     "execution_count": 14,
     "metadata": {},
     "output_type": "execute_result"
    }
   ],
   "source": [
    "train"
   ]
  },
  {
   "cell_type": "code",
   "execution_count": 15,
   "metadata": {},
   "outputs": [
    {
     "data": {
      "text/plain": [
       "(11993, 2)"
      ]
     },
     "execution_count": 15,
     "metadata": {},
     "output_type": "execute_result"
    }
   ],
   "source": [
    "train.shape"
   ]
  },
  {
   "cell_type": "code",
   "execution_count": null,
   "metadata": {},
   "outputs": [],
   "source": [
    "train_csv = train.values\n",
    "test_csv = test.values\n",
    "val_csv = val.values"
   ]
  },
  {
   "cell_type": "code",
   "execution_count": null,
   "metadata": {},
   "outputs": [],
   "source": [
    "def make_tf_ex(feats, lab):\n",
    "    tf_ex = tf.train.Example(features = tf.train.Features(feature= {\n",
    "        'idx' : tf.train.Feature(int64_list = tf.train.Int64List(value = [feats[0]])),\n",
    "        'sentence' : tf.train.Feature(bytes_list = tf.train.BytesList(value = [feats[1].encode('utf-8')])),\n",
    "        'label' : tf.train.Feature(int64_list = tf.train.Int64List(value = [lab]))\n",
    "    }))\n",
    "    \n",
    "    return tf_ex"
   ]
  },
  {
   "cell_type": "code",
   "execution_count": null,
   "metadata": {},
   "outputs": [],
   "source": [
    "def convert_csv_to_tf_record(csv, file_name):\n",
    "    writer = TFRecordWriter(file_name)\n",
    "    for index,row in enumerate(csv):\n",
    "        try:\n",
    "            if row is None:\n",
    "                print(\"row was None\")\n",
    "                raise Exception('Row Missing')\n",
    "                \n",
    "            if row[0] is None or row[1] is None:\n",
    "                print(\"row[0] or row[1] was None\")\n",
    "                raise Exception('Value Missing')\n",
    "                \n",
    "            if row[0].strip() is '':\n",
    "                print(\"row[0].strip() was ''\")\n",
    "                raise Exception('Utterance is empty')\n",
    "                \n",
    "            feats = (index, row[0])\n",
    "            lab = row[1]\n",
    "            example = make_tf_ex(feats, lab)\n",
    "            writer.write(example.SerializeToString())\n",
    "\n",
    "        except Exception as inst:\n",
    "            print(type(inst))\n",
    "            print(Exception.args)\n",
    "            print(Exception.with_traceback)\n",
    "            \n",
    "    writer.close()\n",
    "\n",
    "def generate_json_info(local_file_name):\n",
    "    info = {\"train_length\": len(train),\n",
    "            \"val_length\": len(val),\n",
    "            \"test_length\": len(test)}\n",
    "\n",
    "    with open(local_file_name, 'w') as outfile:\n",
    "        json.dump(info, outfile)"
   ]
  },
  {
   "cell_type": "code",
   "execution_count": null,
   "metadata": {},
   "outputs": [],
   "source": [
    "# Make All\n",
    "\n",
    "# convert_csv_to_tf_record(train_csv, \"data/train_large.tfrecord\")\n",
    "# convert_csv_to_tf_record(test_csv, \"data/test_large.tfrecord\")\n",
    "# convert_csv_to_tf_record(val_csv, \"data/val_large.tfrecord\")\n",
    "\n",
    "# Make even subsample - ~18,000 in total\n",
    "convert_csv_to_tf_record(train_csv, OUTFILE_prefix + \"train47.tfrecord\")\n",
    "convert_csv_to_tf_record(test_csv, OUTFILE_prefix + \"test47.tfrecord\")\n",
    "convert_csv_to_tf_record(val_csv, OUTFILE_prefix + \"val47.tfrecord\")"
   ]
  },
  {
   "cell_type": "code",
   "execution_count": null,
   "metadata": {},
   "outputs": [],
   "source": [
    "generate_json_info(\"../data/lengths/tweet47_info.json\")"
   ]
  },
  {
   "cell_type": "code",
   "execution_count": null,
   "metadata": {},
   "outputs": [],
   "source": []
  }
 ],
 "metadata": {
  "kernelspec": {
   "display_name": "Python 3",
   "language": "python",
   "name": "python3"
  },
  "language_info": {
   "codemirror_mode": {
    "name": "ipython",
    "version": 3
   },
   "file_extension": ".py",
   "mimetype": "text/x-python",
   "name": "python",
   "nbconvert_exporter": "python",
   "pygments_lexer": "ipython3",
   "version": "3.7.5"
  }
 },
 "nbformat": 4,
 "nbformat_minor": 2
}
